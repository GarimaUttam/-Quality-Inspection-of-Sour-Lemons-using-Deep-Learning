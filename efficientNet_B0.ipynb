{
  "nbformat": 4,
  "nbformat_minor": 0,
  "metadata": {
    "colab": {
      "provenance": [],
      "gpuType": "T4"
    },
    "kernelspec": {
      "name": "python3",
      "display_name": "Python 3"
    },
    "language_info": {
      "name": "python"
    },
    "accelerator": "GPU"
  },
  "cells": [
    {
      "cell_type": "markdown",
      "source": [
        "# **Data Preprocessing**"
      ],
      "metadata": {
        "id": "-8cKCCJzUMKH"
      }
    },
    {
      "cell_type": "code",
      "source": [
        "from google.colab import drive\n",
        "drive.mount(\"/content/drive\")"
      ],
      "metadata": {
        "colab": {
          "base_uri": "https://localhost:8080/"
        },
        "id": "Slo47z3LUOnd",
        "outputId": "5a23c8d1-92da-454c-de8b-5fcfae17651b"
      },
      "execution_count": null,
      "outputs": [
        {
          "output_type": "stream",
          "name": "stdout",
          "text": [
            "Mounted at /content/drive\n"
          ]
        }
      ]
    },
    {
      "cell_type": "code",
      "source": [
        "import numpy as np\n",
        "import tensorflow as tf\n",
        "import pandas as pd\n",
        "import matplotlib.pyplot as plt\n",
        "import os\n",
        "\n",
        "dataset_path = os.listdir('/content/drive/MyDrive/dataset')\n",
        "\n",
        "print(dataset_path)\n",
        "\n",
        "print(\"Types of classes labels found: \", len(dataset_path))\n"
      ],
      "metadata": {
        "colab": {
          "base_uri": "https://localhost:8080/"
        },
        "id": "Djo93qh2t-tU",
        "outputId": "641bd557-c6e9-4b3f-8e67-59c3bebec767"
      },
      "execution_count": null,
      "outputs": [
        {
          "output_type": "stream",
          "name": "stdout",
          "text": [
            "['empty_background', 'good_quality', 'bad_quality']\n",
            "Types of classes labels found:  3\n"
          ]
        }
      ]
    },
    {
      "cell_type": "code",
      "source": [
        "class_labels = []\n",
        "for item in dataset_path:\n",
        "  all_classes = os.listdir('/content/drive/MyDrive/dataset' + '/' + item)\n",
        "  for room in all_classes:\n",
        "    class_labels.append((item, str('dataset_path' + '/' + item) + '/' + room))\n"
      ],
      "metadata": {
        "id": "F5zXGiCwU8nl"
      },
      "execution_count": null,
      "outputs": []
    },
    {
      "cell_type": "code",
      "source": [
        "df = pd.DataFrame(data = class_labels, columns = ['Labels', 'image'])\n",
        "print(df.head())\n",
        "print(df.tail())"
      ],
      "metadata": {
        "id": "AGAA8i6iVlns",
        "colab": {
          "base_uri": "https://localhost:8080/"
        },
        "outputId": "dbdc6209-a7a3-42d3-e810-70c80f9b3620"
      },
      "execution_count": null,
      "outputs": [
        {
          "output_type": "stream",
          "name": "stdout",
          "text": [
            "             Labels                                              image\n",
            "0  empty_background  dataset_path/empty_background/empty_background...\n",
            "1  empty_background  dataset_path/empty_background/empty_background...\n",
            "2  empty_background  dataset_path/empty_background/empty_background...\n",
            "3  empty_background  dataset_path/empty_background/empty_background...\n",
            "4  empty_background  dataset_path/empty_background/empty_background...\n",
            "           Labels                                         image\n",
            "2524  bad_quality   dataset_path/bad_quality/bad_quality_98.jpg\n",
            "2525  bad_quality  dataset_path/bad_quality/bad_quality_949.jpg\n",
            "2526  bad_quality  dataset_path/bad_quality/bad_quality_938.jpg\n",
            "2527  bad_quality   dataset_path/bad_quality/bad_quality_95.jpg\n",
            "2528  bad_quality   dataset_path/bad_quality/bad_quality_97.jpg\n"
          ]
        }
      ]
    },
    {
      "cell_type": "code",
      "source": [
        "print(\"Total number of images in the dataset: \", len(df))\n",
        "\n",
        "label_count = df['Labels'].value_counts()\n",
        "print(label_count)"
      ],
      "metadata": {
        "colab": {
          "base_uri": "https://localhost:8080/"
        },
        "id": "9x5KWLutYeyX",
        "outputId": "bfd1536a-93d0-4efb-f199-d8b66fa4bf87"
      },
      "execution_count": null,
      "outputs": [
        {
          "output_type": "stream",
          "name": "stdout",
          "text": [
            "Total number of images in the dataset:  2529\n",
            "good_quality        1126\n",
            "bad_quality          951\n",
            "empty_background     452\n",
            "Name: Labels, dtype: int64\n"
          ]
        }
      ]
    },
    {
      "cell_type": "code",
      "source": [
        "import cv2\n",
        "path = '/content/drive/MyDrive/dataset/'\n",
        "dataset_path = os.listdir(path)\n",
        "im_size = 224\n",
        "\n",
        "images = []\n",
        "labels = []\n",
        "\n",
        "for i in dataset_path:\n",
        "  data_path = path + str(i)\n",
        "  filenames = [i for i in os.listdir(data_path)]\n",
        "\n",
        "  for f in filenames:\n",
        "    img = cv2.imread(data_path + '/' + f)\n",
        "    img = cv2.resize(img, (im_size, im_size))\n",
        "    images.append(img)\n",
        "    labels.append(i)"
      ],
      "metadata": {
        "id": "EEwmbNtxY0sD"
      },
      "execution_count": null,
      "outputs": []
    },
    {
      "cell_type": "code",
      "source": [
        "images = np.array(images)\n",
        "\n",
        "images = images.astype('float32') / 255.0\n",
        "images.shape"
      ],
      "metadata": {
        "colab": {
          "base_uri": "https://localhost:8080/"
        },
        "id": "Tu399cq4Y7wK",
        "outputId": "788c1785-177f-497e-cb36-6615ad9bdc1e"
      },
      "execution_count": null,
      "outputs": [
        {
          "output_type": "execute_result",
          "data": {
            "text/plain": [
              "(2529, 224, 224, 3)"
            ]
          },
          "metadata": {},
          "execution_count": 7
        }
      ]
    },
    {
      "cell_type": "code",
      "source": [
        "from sklearn.preprocessing import LabelEncoder, OneHotEncoder\n",
        "\n",
        "y = df['Labels'].values\n",
        "print(y)\n",
        "\n",
        "y_labelencoder = LabelEncoder()\n",
        "y = y_labelencoder.fit_transform(y)\n",
        "print(y)"
      ],
      "metadata": {
        "colab": {
          "base_uri": "https://localhost:8080/"
        },
        "id": "5_ML5oWFZ8cD",
        "outputId": "169fa8fc-d08f-4bbd-8108-bff03efb733d"
      },
      "execution_count": null,
      "outputs": [
        {
          "output_type": "stream",
          "name": "stdout",
          "text": [
            "['empty_background' 'empty_background' 'empty_background' ...\n",
            " 'bad_quality' 'bad_quality' 'bad_quality']\n",
            "[1 1 1 ... 0 0 0]\n"
          ]
        }
      ]
    },
    {
      "cell_type": "code",
      "source": [
        "y = y.reshape(-1, 1)\n",
        "from sklearn.compose import ColumnTransformer\n",
        "ct = ColumnTransformer([('my_ohe', OneHotEncoder(), [0])], remainder = 'passthrough')\n",
        "Y = ct.fit_transform(y)\n",
        "print(Y[:5])\n",
        "print(Y[35:])"
      ],
      "metadata": {
        "colab": {
          "base_uri": "https://localhost:8080/"
        },
        "id": "MwBKURMRaF0e",
        "outputId": "9a6a4544-15e2-42dc-df4a-e56e2a3e8795"
      },
      "execution_count": null,
      "outputs": [
        {
          "output_type": "stream",
          "name": "stdout",
          "text": [
            "[[0. 1. 0.]\n",
            " [0. 1. 0.]\n",
            " [0. 1. 0.]\n",
            " [0. 1. 0.]\n",
            " [0. 1. 0.]]\n",
            "[[0. 1. 0.]\n",
            " [0. 1. 0.]\n",
            " [0. 1. 0.]\n",
            " ...\n",
            " [1. 0. 0.]\n",
            " [1. 0. 0.]\n",
            " [1. 0. 0.]]\n"
          ]
        }
      ]
    },
    {
      "cell_type": "code",
      "source": [
        "from sklearn.utils import shuffle\n",
        "from sklearn.model_selection import train_test_split\n",
        "\n",
        "images, Y = shuffle(images, Y, random_state = 1)\n",
        "train_x, test_x, train_y, test_y = train_test_split(images, Y, test_size = 0.25, random_state = 415)\n",
        "\n",
        "print(train_x.shape)\n",
        "print(train_y.shape)\n",
        "print(test_x.shape)\n",
        "print(test_y.shape)"
      ],
      "metadata": {
        "colab": {
          "base_uri": "https://localhost:8080/"
        },
        "id": "0xHfs5PBa1NE",
        "outputId": "1ac47138-666b-492c-e4b1-f7dd05c87bb8"
      },
      "execution_count": null,
      "outputs": [
        {
          "output_type": "stream",
          "name": "stdout",
          "text": [
            "(1896, 224, 224, 3)\n",
            "(1896, 3)\n",
            "(633, 224, 224, 3)\n",
            "(633, 3)\n"
          ]
        }
      ]
    },
    {
      "cell_type": "markdown",
      "source": [
        "# **EfficientNet B0 Implementation**"
      ],
      "metadata": {
        "id": "riXkNrrTbirk"
      }
    },
    {
      "cell_type": "code",
      "source": [
        "from tensorflow.keras import layers\n",
        "from tensorflow.keras.applications import EfficientNetB0\n",
        "\n",
        "NUM_CLASSES = 3\n",
        "IMG_SIZE = 224\n",
        "size = (IMG_SIZE, IMG_SIZE)\n",
        "\n",
        "inputs = layers.Input(shape = (IMG_SIZE, IMG_SIZE, 3))\n",
        "\n",
        "outputs = EfficientNetB0(include_top=True, weights=None, classes=NUM_CLASSES)(inputs)\n"
      ],
      "metadata": {
        "id": "sTxPzGl5bsGY"
      },
      "execution_count": null,
      "outputs": []
    },
    {
      "cell_type": "code",
      "source": [
        "model = tf.keras.Model(inputs, outputs)\n",
        "\n",
        "model.compile(optimizer = \"adam\", loss = \"categorical_crossentropy\", metrics = [\"accuracy\"])\n",
        "\n",
        "model.summary()\n",
        "\n",
        "hist = model.fit(train_x, train_y, epochs =40 , verbose = 2)"
      ],
      "metadata": {
        "colab": {
          "base_uri": "https://localhost:8080/"
        },
        "id": "5IEqPYsPcpzQ",
        "outputId": "459a1950-277f-40cc-c6a1-d9601332f02b"
      },
      "execution_count": null,
      "outputs": [
        {
          "output_type": "stream",
          "name": "stdout",
          "text": [
            "Model: \"model\"\n",
            "_________________________________________________________________\n",
            " Layer (type)                Output Shape              Param #   \n",
            "=================================================================\n",
            " input_1 (InputLayer)        [(None, 224, 224, 3)]     0         \n",
            "                                                                 \n",
            " efficientnetb0 (Functional  (None, 3)                 4053414   \n",
            " )                                                               \n",
            "                                                                 \n",
            "=================================================================\n",
            "Total params: 4053414 (15.46 MB)\n",
            "Trainable params: 4011391 (15.30 MB)\n",
            "Non-trainable params: 42023 (164.16 KB)\n",
            "_________________________________________________________________\n",
            "Epoch 1/40\n",
            "60/60 - 55s - loss: 1.8428 - accuracy: 0.6925 - 55s/epoch - 917ms/step\n",
            "Epoch 2/40\n",
            "60/60 - 15s - loss: 0.8298 - accuracy: 0.8750 - 15s/epoch - 244ms/step\n",
            "Epoch 3/40\n",
            "60/60 - 15s - loss: 0.1847 - accuracy: 0.9457 - 15s/epoch - 247ms/step\n",
            "Epoch 4/40\n",
            "60/60 - 15s - loss: 0.1528 - accuracy: 0.9441 - 15s/epoch - 248ms/step\n",
            "Epoch 5/40\n",
            "60/60 - 15s - loss: 0.1271 - accuracy: 0.9568 - 15s/epoch - 249ms/step\n",
            "Epoch 6/40\n",
            "60/60 - 15s - loss: 0.2390 - accuracy: 0.9541 - 15s/epoch - 251ms/step\n",
            "Epoch 7/40\n",
            "60/60 - 15s - loss: 0.0740 - accuracy: 0.9699 - 15s/epoch - 251ms/step\n",
            "Epoch 8/40\n",
            "60/60 - 15s - loss: 0.0686 - accuracy: 0.9784 - 15s/epoch - 250ms/step\n",
            "Epoch 9/40\n",
            "60/60 - 15s - loss: 0.1012 - accuracy: 0.9752 - 15s/epoch - 251ms/step\n",
            "Epoch 10/40\n",
            "60/60 - 15s - loss: 0.0659 - accuracy: 0.9763 - 15s/epoch - 249ms/step\n",
            "Epoch 11/40\n",
            "60/60 - 15s - loss: 0.0496 - accuracy: 0.9831 - 15s/epoch - 251ms/step\n",
            "Epoch 12/40\n",
            "60/60 - 15s - loss: 0.1586 - accuracy: 0.9768 - 15s/epoch - 251ms/step\n",
            "Epoch 13/40\n",
            "60/60 - 15s - loss: 0.2322 - accuracy: 0.9467 - 15s/epoch - 250ms/step\n",
            "Epoch 14/40\n",
            "60/60 - 15s - loss: 0.1438 - accuracy: 0.9684 - 15s/epoch - 251ms/step\n",
            "Epoch 15/40\n",
            "60/60 - 15s - loss: 0.0610 - accuracy: 0.9784 - 15s/epoch - 251ms/step\n",
            "Epoch 16/40\n",
            "60/60 - 15s - loss: 0.0471 - accuracy: 0.9852 - 15s/epoch - 250ms/step\n",
            "Epoch 17/40\n",
            "60/60 - 15s - loss: 0.0296 - accuracy: 0.9910 - 15s/epoch - 250ms/step\n",
            "Epoch 18/40\n",
            "60/60 - 15s - loss: 0.0308 - accuracy: 0.9895 - 15s/epoch - 250ms/step\n",
            "Epoch 19/40\n",
            "60/60 - 15s - loss: 0.1120 - accuracy: 0.9763 - 15s/epoch - 250ms/step\n",
            "Epoch 20/40\n",
            "60/60 - 15s - loss: 0.0397 - accuracy: 0.9863 - 15s/epoch - 252ms/step\n",
            "Epoch 21/40\n",
            "60/60 - 15s - loss: 0.0210 - accuracy: 0.9953 - 15s/epoch - 251ms/step\n",
            "Epoch 22/40\n",
            "60/60 - 15s - loss: 0.0474 - accuracy: 0.9863 - 15s/epoch - 250ms/step\n",
            "Epoch 23/40\n",
            "60/60 - 15s - loss: 0.0181 - accuracy: 0.9926 - 15s/epoch - 251ms/step\n",
            "Epoch 24/40\n",
            "60/60 - 15s - loss: 0.0074 - accuracy: 0.9979 - 15s/epoch - 249ms/step\n",
            "Epoch 25/40\n",
            "60/60 - 15s - loss: 0.0173 - accuracy: 0.9942 - 15s/epoch - 250ms/step\n",
            "Epoch 26/40\n",
            "60/60 - 15s - loss: 0.0075 - accuracy: 0.9979 - 15s/epoch - 251ms/step\n",
            "Epoch 27/40\n",
            "60/60 - 15s - loss: 0.0402 - accuracy: 0.9947 - 15s/epoch - 251ms/step\n",
            "Epoch 28/40\n",
            "60/60 - 15s - loss: 0.1420 - accuracy: 0.9599 - 15s/epoch - 250ms/step\n",
            "Epoch 29/40\n",
            "60/60 - 15s - loss: 0.0283 - accuracy: 0.9905 - 15s/epoch - 250ms/step\n",
            "Epoch 30/40\n",
            "60/60 - 15s - loss: 0.0106 - accuracy: 0.9958 - 15s/epoch - 250ms/step\n",
            "Epoch 31/40\n",
            "60/60 - 15s - loss: 0.0336 - accuracy: 0.9963 - 15s/epoch - 250ms/step\n",
            "Epoch 32/40\n",
            "60/60 - 15s - loss: 0.6096 - accuracy: 0.8761 - 15s/epoch - 250ms/step\n",
            "Epoch 33/40\n",
            "60/60 - 15s - loss: 0.1521 - accuracy: 0.9541 - 15s/epoch - 249ms/step\n",
            "Epoch 34/40\n",
            "60/60 - 15s - loss: 0.0689 - accuracy: 0.9789 - 15s/epoch - 250ms/step\n",
            "Epoch 35/40\n",
            "60/60 - 15s - loss: 0.0902 - accuracy: 0.9710 - 15s/epoch - 250ms/step\n",
            "Epoch 36/40\n",
            "60/60 - 15s - loss: 0.0693 - accuracy: 0.9826 - 15s/epoch - 250ms/step\n",
            "Epoch 37/40\n",
            "60/60 - 15s - loss: 0.0219 - accuracy: 0.9921 - 15s/epoch - 250ms/step\n",
            "Epoch 38/40\n",
            "60/60 - 15s - loss: 0.0295 - accuracy: 0.9910 - 15s/epoch - 251ms/step\n",
            "Epoch 39/40\n",
            "60/60 - 15s - loss: 0.0288 - accuracy: 0.9916 - 15s/epoch - 250ms/step\n",
            "Epoch 40/40\n",
            "60/60 - 15s - loss: 0.0172 - accuracy: 0.9937 - 15s/epoch - 249ms/step\n"
          ]
        }
      ]
    },
    {
      "cell_type": "code",
      "source": [
        "def plot_hist(hist):\n",
        "  plt.plot(hist.history[\"accuracy\"])\n",
        "  plt.title(\"Model Accuracy\")\n",
        "  plt.ylabel(\"Accuracy\")\n",
        "  plt.xlabel(\"epoch\")\n",
        "  plt.show()\n",
        "\n",
        "plot_hist(hist)"
      ],
      "metadata": {
        "colab": {
          "base_uri": "https://localhost:8080/",
          "height": 472
        },
        "id": "3UHfIoCwjWn0",
        "outputId": "da502bd1-fb4d-4f9c-8aa7-21d3dec90b6b"
      },
      "execution_count": null,
      "outputs": [
        {
          "output_type": "display_data",
          "data": {
            "text/plain": [
              "<Figure size 640x480 with 1 Axes>"
            ],
            "image/png": "[encoded data removed]"
          },
          "metadata": {}
        }
      ]
    },
    {
      "cell_type": "code",
      "source": [
        "def plot_hist(hist):\n",
        "  plt.plot(hist.history[\"loss\"])\n",
        "  plt.title(\"Model loss\")\n",
        "  plt.ylabel(\"loss\")\n",
        "  plt.xlabel(\"epoch\")\n",
        "  plt.show()\n",
        "\n",
        "plot_hist(hist)"
      ],
      "metadata": {
        "colab": {
          "base_uri": "https://localhost:8080/",
          "height": 472
        },
        "id": "B4YYne9xu7KT",
        "outputId": "c9194510-54fa-411d-ef1b-b75fb1369ea8"
      },
      "execution_count": null,
      "outputs": [
        {
          "output_type": "display_data",
          "data": {
            "text/plain": [
              "<Figure size 640x480 with 1 Axes>"
            ],
            "image/png": "[encoded data removed]"
          },
          "metadata": {}
        }
      ]
    },
    {
      "cell_type": "code",
      "source": [
        "preds = model.evaluate(test_x, test_y)\n",
        "print(\"Loss = \" + str(preds[0]))\n",
        "print(\"Test Accuracy = \" + str(preds[1]))"
      ],
      "metadata": {
        "id": "SNdwHpPXj8Cf",
        "colab": {
          "base_uri": "https://localhost:8080/"
        },
        "outputId": "434091a6-5a15-4307-b3ef-1a76bf00e01d"
      },
      "execution_count": null,
      "outputs": [
        {
          "output_type": "stream",
          "name": "stdout",
          "text": [
            "20/20 [==============================] - 5s 123ms/step - loss: 0.0542 - accuracy: 0.9826\n",
            "Loss = 0.0541725717484951\n",
            "Test Accuracy = 0.9826224446296692\n"
          ]
        }
      ]
    },
    {
      "cell_type": "code",
      "source": [
        "y_predicted = model.predict(test_x)\n",
        "y_predicted[0]"
      ],
      "metadata": {
        "colab": {
          "base_uri": "https://localhost:8080/"
        },
        "id": "g5fKJGFxv5cb",
        "outputId": "d977f366-0e0e-4607-f5b9-db7cf3070172"
      },
      "execution_count": null,
      "outputs": [
        {
          "output_type": "stream",
          "name": "stdout",
          "text": [
            "20/20 [==============================] - 3s 59ms/step\n"
          ]
        },
        {
          "output_type": "execute_result",
          "data": {
            "text/plain": [
              "array([1.2447151e-05, 5.2807718e-09, 9.9998760e-01], dtype=float32)"
            ]
          },
          "metadata": {},
          "execution_count": 16
        }
      ]
    },
    {
      "cell_type": "code",
      "source": [
        "y_predicted_labels = [np.argmax(i) for i in y_predicted]\n",
        "y_predicted_labels[:5]"
      ],
      "metadata": {
        "colab": {
          "base_uri": "https://localhost:8080/"
        },
        "id": "Wkc9WKv8z3kO",
        "outputId": "28a9ced0-bffc-4ca4-d87c-7bfebb77e4e9"
      },
      "execution_count": null,
      "outputs": [
        {
          "output_type": "execute_result",
          "data": {
            "text/plain": [
              "[2, 0, 0, 0, 2]"
            ]
          },
          "metadata": {},
          "execution_count": 17
        }
      ]
    },
    {
      "cell_type": "code",
      "source": [
        "test_y_labels = [np.argmax(i) for i in test_y]\n",
        "test_y_labels[:5]"
      ],
      "metadata": {
        "colab": {
          "base_uri": "https://localhost:8080/"
        },
        "id": "xxHkPi5405SG",
        "outputId": "0ded022e-aef1-473b-c123-e25e2a679f3b"
      },
      "execution_count": null,
      "outputs": [
        {
          "output_type": "execute_result",
          "data": {
            "text/plain": [
              "[2, 0, 0, 0, 2]"
            ]
          },
          "metadata": {},
          "execution_count": 18
        }
      ]
    },
    {
      "cell_type": "code",
      "source": [
        "cm = tf.math.confusion_matrix(labels = test_y_labels, predictions = y_predicted_labels)\n",
        "cm"
      ],
      "metadata": {
        "colab": {
          "base_uri": "https://localhost:8080/"
        },
        "id": "DN4NAq9A0hQ9",
        "outputId": "8223991e-e4c1-43ca-d7ea-213c97bfa0a2"
      },
      "execution_count": null,
      "outputs": [
        {
          "output_type": "execute_result",
          "data": {
            "text/plain": [
              "<tf.Tensor: shape=(3, 3), dtype=int32, numpy=\n",
              "array([[236,   0,   1],\n",
              "       [  0, 109,   0],\n",
              "       [ 10,   0, 277]], dtype=int32)>"
            ]
          },
          "metadata": {},
          "execution_count": 19
        }
      ]
    },
    {
      "cell_type": "code",
      "source": [
        "import seaborn as sn\n",
        "plt.figure(figsize = (10, 7))\n",
        "sn.heatmap(cm, annot = True, fmt = 'd')\n",
        "plt.xlabel('Predicted')\n",
        "plt.ylabel('True')"
      ],
      "metadata": {
        "colab": {
          "base_uri": "https://localhost:8080/",
          "height": 637
        },
        "id": "Ib1apCWg0Ja8",
        "outputId": "dd3ac396-69d0-4d3a-f3e6-5d18f9e73c32"
      },
      "execution_count": null,
      "outputs": [
        {
          "output_type": "execute_result",
          "data": {
            "text/plain": [
              "Text(95.72222222222221, 0.5, 'True')"
            ]
          },
          "metadata": {},
          "execution_count": 20
        },
        {
          "output_type": "display_data",
          "data": {
            "text/plain": [
              "<Figure size 1000x700 with 2 Axes>"
            ],
            "image/png": "[encoded data removed]"
          },
          "metadata": {}
        }
      ]
    },
    {
      "cell_type": "code",
      "source": [],
      "metadata": {
        "id": "FYVCGDu50cYN"
      },
      "execution_count": null,
      "outputs": []
    }
  ]
}